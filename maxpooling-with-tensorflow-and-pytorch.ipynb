{
 "cells": [
  {
   "cell_type": "markdown",
   "metadata": {},
   "source": [
    "# MaxPool 2D"
   ]
  },
  {
   "cell_type": "markdown",
   "metadata": {},
   "source": [
    "**Information**\n",
    "$$ n_{H} = Matrix Height \\tag{i}$$\n",
    "$$ n_{W} = Matrix Weight \\tag{ii}$$\n",
    "$$ n_{C} = Matrix Channel \\tag{iii}$$\n",
    "$$ f = Filter Size \\tag{iv}$$\n",
    "$$ s = Stride \\tag{v}$$\n",
    "\n",
    "\n",
    "**Input Shape** \n",
    "$$ n_{H} * n_{W} * n_{C} \\tag{1}$$\n",
    "\n",
    "**Output Shape** \n",
    "$$ \\left(\\frac{n_{H}-f}{S}+1\\right) * \\left(\\frac{n_{W}-f}{S}+1\\right) * n_{C} \\tag{2}$$"
   ]
  },
  {
   "cell_type": "markdown",
   "metadata": {},
   "source": [
    "**Max Pooling**\n",
    "\n",
    "$$\n",
    "input\n",
    "\\left[\n",
    "\\begin{array}{ccc}\n",
    "12&20&30&0\\\\\n",
    "8&12&2&0\\\\\n",
    "34&70&37&4\\\\\n",
    "112&100&25&12\\end{array}\n",
    "\\right]_{1x4x4x1}\n",
    "\\Rightarrow\n",
    "filter\n",
    "\\left[\n",
    "\\begin{array}{ccc}\n",
    "f&f\\\\\n",
    "f&f\\end{array}\n",
    "\\right]_{1x2x2x1}\n",
    "\\Rightarrow \n",
    "output\n",
    "\\left[\n",
    "\\begin{array}{ccc}\n",
    "20&30\\\\\n",
    "112&37\\end{array}\n",
    "\\right]_{1x2x2x1}\n",
    "$$\n",
    "\n",
    "\n"
   ]
  },
  {
   "cell_type": "code",
   "execution_count": 1,
   "metadata": {},
   "outputs": [],
   "source": [
    "import warnings\n",
    "warnings.filterwarnings(\"ignore\")"
   ]
  },
  {
   "cell_type": "markdown",
   "metadata": {},
   "source": [
    "## PyTorch"
   ]
  },
  {
   "cell_type": "code",
   "execution_count": 2,
   "metadata": {
    "execution": {
     "iopub.execute_input": "2023-08-22T12:49:13.670231Z",
     "iopub.status.busy": "2023-08-22T12:49:13.669071Z",
     "iopub.status.idle": "2023-08-22T12:49:15.360110Z",
     "shell.execute_reply": "2023-08-22T12:49:15.358680Z",
     "shell.execute_reply.started": "2023-08-22T12:49:13.670187Z"
    }
   },
   "outputs": [],
   "source": [
    "import torch"
   ]
  },
  {
   "cell_type": "code",
   "execution_count": 3,
   "metadata": {
    "execution": {
     "iopub.execute_input": "2023-08-22T10:25:27.911538Z",
     "iopub.status.busy": "2023-08-22T10:25:27.909747Z",
     "iopub.status.idle": "2023-08-22T10:25:28.064999Z",
     "shell.execute_reply": "2023-08-22T10:25:28.063012Z",
     "shell.execute_reply.started": "2023-08-22T10:25:27.911495Z"
    }
   },
   "outputs": [
    {
     "data": {
      "text/plain": [
       "tensor([[ 12.,  20.,  30.,   0.],\n",
       "        [  8.,  12.,   2.,   0.],\n",
       "        [ 34.,  70.,  37.,   4.],\n",
       "        [112., 100.,  25.,  12.]])"
      ]
     },
     "execution_count": 3,
     "metadata": {},
     "output_type": "execute_result"
    }
   ],
   "source": [
    "input = torch.tensor([[12,20,30,0],\n",
    "            [8,12,2,0],\n",
    "            [34,70,37,4],\n",
    "            [112,100,25,12]])\n",
    "\n",
    "input = input.float()\n",
    "input"
   ]
  },
  {
   "cell_type": "code",
   "execution_count": 5,
   "metadata": {
    "execution": {
     "iopub.execute_input": "2023-08-22T12:49:17.359739Z",
     "iopub.status.busy": "2023-08-22T12:49:17.358925Z",
     "iopub.status.idle": "2023-08-22T12:49:17.483579Z",
     "shell.execute_reply": "2023-08-22T12:49:17.482191Z",
     "shell.execute_reply.started": "2023-08-22T12:49:17.359694Z"
    }
   },
   "outputs": [
    {
     "data": {
      "text/plain": [
       "tensor([[[[ 12.,  20.,  30.,   0.],\n",
       "          [  8.,  12.,   2.,   0.],\n",
       "          [ 34.,  70.,  37.,   4.],\n",
       "          [112., 100.,  25.,  12.]]]])"
      ]
     },
     "execution_count": 5,
     "metadata": {},
     "output_type": "execute_result"
    }
   ],
   "source": [
    "input = torch.tensor([[12,20,30,0],\n",
    "            [8,12,2,0],\n",
    "            [34,70,37,4],\n",
    "            [112,100,25,12]])\n",
    "\n",
    "input = input.float()\n",
    "input = input.reshape([1,1,4,4])\n",
    "input"
   ]
  },
  {
   "cell_type": "code",
   "execution_count": 6,
   "metadata": {
    "execution": {
     "iopub.execute_input": "2023-08-22T12:49:19.954077Z",
     "iopub.status.busy": "2023-08-22T12:49:19.953623Z",
     "iopub.status.idle": "2023-08-22T12:49:19.966088Z",
     "shell.execute_reply": "2023-08-22T12:49:19.965163Z",
     "shell.execute_reply.started": "2023-08-22T12:49:19.954044Z"
    }
   },
   "outputs": [
    {
     "data": {
      "text/plain": [
       "tensor([[[[ 20.,  30.],\n",
       "          [112.,  37.]]]])"
      ]
     },
     "execution_count": 6,
     "metadata": {},
     "output_type": "execute_result"
    }
   ],
   "source": [
    "# pool of square window of size=3, stride=2\n",
    "m = torch.nn.MaxPool2d(kernel_size=2, stride=2)\n",
    "output = m(input)\n",
    "output"
   ]
  },
  {
   "cell_type": "code",
   "execution_count": 7,
   "metadata": {
    "execution": {
     "iopub.execute_input": "2023-08-22T10:25:28.168825Z",
     "iopub.status.busy": "2023-08-22T10:25:28.167817Z",
     "iopub.status.idle": "2023-08-22T10:25:28.179570Z",
     "shell.execute_reply": "2023-08-22T10:25:28.178320Z",
     "shell.execute_reply.started": "2023-08-22T10:25:28.168777Z"
    }
   },
   "outputs": [
    {
     "data": {
      "text/plain": [
       "torch.Size([1, 1, 2, 2])"
      ]
     },
     "execution_count": 7,
     "metadata": {},
     "output_type": "execute_result"
    }
   ],
   "source": [
    "output.shape"
   ]
  },
  {
   "cell_type": "markdown",
   "metadata": {},
   "source": [
    "## Tensorflow"
   ]
  },
  {
   "cell_type": "code",
   "execution_count": 8,
   "metadata": {
    "execution": {
     "iopub.execute_input": "2023-08-22T10:25:28.182347Z",
     "iopub.status.busy": "2023-08-22T10:25:28.181520Z",
     "iopub.status.idle": "2023-08-22T10:25:38.900661Z",
     "shell.execute_reply": "2023-08-22T10:25:38.899396Z",
     "shell.execute_reply.started": "2023-08-22T10:25:28.182303Z"
    }
   },
   "outputs": [],
   "source": [
    "import tensorflow as tf"
   ]
  },
  {
   "cell_type": "code",
   "execution_count": 9,
   "metadata": {
    "execution": {
     "iopub.execute_input": "2023-08-22T11:01:54.031568Z",
     "iopub.status.busy": "2023-08-22T11:01:54.031135Z",
     "iopub.status.idle": "2023-08-22T11:01:54.048931Z",
     "shell.execute_reply": "2023-08-22T11:01:54.046698Z",
     "shell.execute_reply.started": "2023-08-22T11:01:54.031538Z"
    }
   },
   "outputs": [
    {
     "data": {
      "text/plain": [
       "<tf.Tensor: shape=(1, 4, 4, 1), dtype=float32, numpy=\n",
       "array([[[[ 12.],\n",
       "         [ 20.],\n",
       "         [ 30.],\n",
       "         [  0.]],\n",
       "\n",
       "        [[  8.],\n",
       "         [ 12.],\n",
       "         [  2.],\n",
       "         [  0.]],\n",
       "\n",
       "        [[ 34.],\n",
       "         [ 70.],\n",
       "         [ 37.],\n",
       "         [  4.]],\n",
       "\n",
       "        [[112.],\n",
       "         [100.],\n",
       "         [ 25.],\n",
       "         [ 12.]]]], dtype=float32)>"
      ]
     },
     "execution_count": 9,
     "metadata": {},
     "output_type": "execute_result"
    }
   ],
   "source": [
    "x = tf.constant([[12,20,30,0],\n",
    "            [8,12,2,0],\n",
    "            [34,70,37,4],\n",
    "            [112,100,25,12]])\n",
    "\n",
    "x = input.float()\n",
    "\n",
    "x = tf.reshape(x, [1,4,4,1])\n",
    "\n",
    "# 1. Satır\n",
    "# 2. Satır\n",
    "# 3. Satır\n",
    "# 4. Satır\n",
    "\n",
    "x"
   ]
  },
  {
   "cell_type": "code",
   "execution_count": 10,
   "metadata": {
    "execution": {
     "iopub.execute_input": "2023-08-22T11:01:54.958042Z",
     "iopub.status.busy": "2023-08-22T11:01:54.956912Z",
     "iopub.status.idle": "2023-08-22T11:01:54.971873Z",
     "shell.execute_reply": "2023-08-22T11:01:54.970027Z",
     "shell.execute_reply.started": "2023-08-22T11:01:54.957991Z"
    }
   },
   "outputs": [
    {
     "data": {
      "text/plain": [
       "<tf.Tensor: shape=(1, 2, 2, 1), dtype=float32, numpy=\n",
       "array([[[[ 20.],\n",
       "         [ 30.]],\n",
       "\n",
       "        [[112.],\n",
       "         [ 37.]]]], dtype=float32)>"
      ]
     },
     "execution_count": 10,
     "metadata": {},
     "output_type": "execute_result"
    }
   ],
   "source": [
    "# data_format ile last_channel, first_channel düzenlenebiliyor.\n",
    "max_pool_2d = tf.keras.layers.MaxPooling2D(pool_size=(2, 2), strides=(2, 2))\n",
    "\n",
    "output = max_pool_2d(x)\n",
    "output"
   ]
  },
  {
   "cell_type": "code",
   "execution_count": 11,
   "metadata": {
    "execution": {
     "iopub.execute_input": "2023-08-22T10:25:39.091158Z",
     "iopub.status.busy": "2023-08-22T10:25:39.090744Z",
     "iopub.status.idle": "2023-08-22T10:25:39.098378Z",
     "shell.execute_reply": "2023-08-22T10:25:39.097182Z",
     "shell.execute_reply.started": "2023-08-22T10:25:39.091125Z"
    }
   },
   "outputs": [
    {
     "data": {
      "text/plain": [
       "TensorShape([1, 2, 2, 1])"
      ]
     },
     "execution_count": 11,
     "metadata": {},
     "output_type": "execute_result"
    }
   ],
   "source": [
    "output.shape"
   ]
  },
  {
   "cell_type": "code",
   "execution_count": null,
   "metadata": {},
   "outputs": [],
   "source": []
  }
 ],
 "metadata": {
  "kernelspec": {
   "display_name": "Python 3 (ipykernel)",
   "language": "python",
   "name": "python3"
  },
  "language_info": {
   "codemirror_mode": {
    "name": "ipython",
    "version": 3
   },
   "file_extension": ".py",
   "mimetype": "text/x-python",
   "name": "python",
   "nbconvert_exporter": "python",
   "pygments_lexer": "ipython3",
   "version": "3.8.17"
  }
 },
 "nbformat": 4,
 "nbformat_minor": 4
}
